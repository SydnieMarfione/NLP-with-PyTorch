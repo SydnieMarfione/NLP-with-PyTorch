{
  "nbformat": 4,
  "nbformat_minor": 0,
  "metadata": {
    "colab": {
      "provenance": []
    },
    "kernelspec": {
      "name": "python3",
      "display_name": "Python 3"
    },
    "language_info": {
      "name": "python"
    }
  },
  "cells": [
    {
      "cell_type": "code",
      "source": [
        "import torch\n",
        "import torch.nn as nn\n",
        "from tqdm import tqdm\n",
        "from annoy import AnnoyIndex\n",
        "import numpy as np"
      ],
      "metadata": {
        "colab": {
          "base_uri": "https://localhost:8080/",
          "height": 351
        },
        "id": "0UE_ZQy6njzW",
        "outputId": "caecc22e-3409-4b4f-d4a8-914cc52c4478"
      },
      "execution_count": 3,
      "outputs": [
        {
          "output_type": "error",
          "ename": "ModuleNotFoundError",
          "evalue": "ignored",
          "traceback": [
            "\u001b[0;31m---------------------------------------------------------------------------\u001b[0m",
            "\u001b[0;31mModuleNotFoundError\u001b[0m                       Traceback (most recent call last)",
            "\u001b[0;32m<ipython-input-3-8194b80d74d8>\u001b[0m in \u001b[0;36m<cell line: 4>\u001b[0;34m()\u001b[0m\n\u001b[1;32m      2\u001b[0m \u001b[0;32mimport\u001b[0m \u001b[0mtorch\u001b[0m\u001b[0;34m.\u001b[0m\u001b[0mnn\u001b[0m \u001b[0;32mas\u001b[0m \u001b[0mnn\u001b[0m\u001b[0;34m\u001b[0m\u001b[0;34m\u001b[0m\u001b[0m\n\u001b[1;32m      3\u001b[0m \u001b[0;32mfrom\u001b[0m \u001b[0mtqdm\u001b[0m \u001b[0;32mimport\u001b[0m \u001b[0mtqdm\u001b[0m\u001b[0;34m\u001b[0m\u001b[0;34m\u001b[0m\u001b[0m\n\u001b[0;32m----> 4\u001b[0;31m \u001b[0;32mfrom\u001b[0m \u001b[0mannoy\u001b[0m \u001b[0;32mimport\u001b[0m \u001b[0mAnnoyIndex\u001b[0m\u001b[0;34m\u001b[0m\u001b[0;34m\u001b[0m\u001b[0m\n\u001b[0m\u001b[1;32m      5\u001b[0m \u001b[0;32mimport\u001b[0m \u001b[0mnumpy\u001b[0m \u001b[0;32mas\u001b[0m \u001b[0mnp\u001b[0m\u001b[0;34m\u001b[0m\u001b[0;34m\u001b[0m\u001b[0m\n",
            "\u001b[0;31mModuleNotFoundError\u001b[0m: No module named 'annoy'",
            "",
            "\u001b[0;31m---------------------------------------------------------------------------\u001b[0;32m\nNOTE: If your import is failing due to a missing package, you can\nmanually install dependencies using either !pip or !apt.\n\nTo view examples of installing some common dependencies, click the\n\"Open Examples\" button below.\n\u001b[0;31m---------------------------------------------------------------------------\u001b[0m\n"
          ],
          "errorDetails": {
            "actions": [
              {
                "action": "open_url",
                "actionText": "Open Examples",
                "url": "/notebooks/snippets/importing_libraries.ipynb"
              }
            ]
          }
        }
      ]
    },
    {
      "cell_type": "code",
      "execution_count": null,
      "metadata": {
        "id": "_u2HnTNjFzud"
      },
      "outputs": [],
      "source": [
        "class PreTrainedEmbeddings(object):\n",
        "  def __init__(self, word_to_index, word_vectors):\n",
        "\n",
        "    self.word_to_index = word_to_index\n",
        "    self.word_vectors = word_vectors\n",
        "    self.index_to_word = \\\n",
        "      {v: k for k, v in self.word_to_index.itrems()}\n",
        "    self.index = AnnoyIndex(len(word_vectors[0]),\n",
        "                            metric='ecluidean')\n",
        "    for _, i in self.word_to_index.items():\n",
        "      self.index.add_item(i, self.word_vectors[i])\n",
        "    self.index.build(50)\n",
        "\n",
        "  def from_embeddings_file(cls, embedding_file):\n",
        "\n",
        "    word_to_index = {}\n",
        "    word_vectors = []\n",
        "    with open(embedding_file) as fp:\n",
        "      for line in fp.readlines():\n",
        "        line = line.split(\" \")\n",
        "        word = line[0]\n",
        "        vec = np.array([float(x) for x in line[1:]])\n",
        "\n",
        "        word_to_index[word] = len(word_to_index)\n",
        "        word_vectors.append(vec)\n",
        "\n",
        "    return cls(word_to_index, word_vectors)"
      ]
    },
    {
      "cell_type": "code",
      "source": [
        "embeddings = \\\n",
        "  PreTrainedEmbeddings.from_embeddings_file('glove.6B.100d.txt')"
      ],
      "metadata": {
        "id": "fqpH2cUATg6H"
      },
      "execution_count": null,
      "outputs": []
    },
    {
      "cell_type": "code",
      "source": [
        "class PreTrainedEmbeddings(object):\n",
        "  def get_embeddings(self, word):\n",
        "\n",
        "    return self.word_vectors[self.word_to_index[word]]\n",
        "\n",
        "  def get_closest_to_vectors(self, vector, n=1):\n",
        "\n",
        "     nn_indices = self.index.get_nns_by_vector(vector, n)\n",
        "     return [self.index_to_word[neighbor]\n",
        "              for neighbor in nn_indices]\n",
        "  def compute_and_print_analogy(self, word1, word2, word3):\n",
        "\n",
        "    vec1 = self.get_embedding(word1)\n",
        "    vec2 = self.get_embeddings(word2)\n",
        "    vec3 = self.get_embeddings(word3)\n",
        "\n",
        "    spatial_relationship = vec2 - vec1\n",
        "    vec4 = vec3 + spatial_relationship\n",
        "\n",
        "    closest_words = [word for word in closest_words\n",
        "                      if word not in existing_words]\n",
        "\n",
        "    if len(closest_words) == 0:\n",
        "      print(\"Could not find nearest neighbors for the vector!\")\n",
        "      return\n",
        "\n",
        "    for word4 in closest_words == 0:\n",
        "      print(\"{} : {} :: {}\".format(word1, word2, word3,\n",
        "                                      word4))"
      ],
      "metadata": {
        "id": "2D5vJZlwo2K8"
      },
      "execution_count": 7,
      "outputs": []
    },
    {
      "cell_type": "code",
      "source": [
        "embeddings.compute_and_print_analogy('man', 'he', 'woman')"
      ],
      "metadata": {
        "id": "A5eMLsXnTd7D"
      },
      "execution_count": null,
      "outputs": []
    },
    {
      "cell_type": "code",
      "source": [
        "embeddings.compute_and_print_analogy('fly', 'plane', 'sail')"
      ],
      "metadata": {
        "id": "sdoUtUYmTbHD"
      },
      "execution_count": null,
      "outputs": []
    },
    {
      "cell_type": "code",
      "source": [
        "embeddings.compute_and_print_analogy('cat', 'kitten', 'dog')"
      ],
      "metadata": {
        "id": "Jymzs-bDTFSD"
      },
      "execution_count": null,
      "outputs": []
    },
    {
      "cell_type": "code",
      "source": [
        "embeddings.compute_and_print_analogy('blue', 'color', 'dog')"
      ],
      "metadata": {
        "id": "HGrxqgm2TKvP"
      },
      "execution_count": null,
      "outputs": []
    },
    {
      "cell_type": "code",
      "source": [
        "embeddings.compute_and_print_analogy('leg', 'legs', 'hand')"
      ],
      "metadata": {
        "id": "L-IHmucUTMzb"
      },
      "execution_count": null,
      "outputs": []
    },
    {
      "cell_type": "code",
      "source": [
        "embeddings.compute_and_print_analogy('toe', 'foot', 'finger')"
      ],
      "metadata": {
        "id": "YKk9bJzKTOrh"
      },
      "execution_count": null,
      "outputs": []
    },
    {
      "cell_type": "code",
      "source": [
        "embeddings.compute_and_print_analogy('talk', 'communicate', 'read')"
      ],
      "metadata": {
        "id": "CPjQpS-dTQdO"
      },
      "execution_count": null,
      "outputs": []
    },
    {
      "cell_type": "code",
      "source": [
        "embeddings.compute_and_print_analogy('blue', 'democrat', 'red')"
      ],
      "metadata": {
        "id": "6_507FxwTST9"
      },
      "execution_count": null,
      "outputs": []
    },
    {
      "cell_type": "code",
      "source": [
        "embeddings.compute_and_print_analogy('man', 'king', 'woman')"
      ],
      "metadata": {
        "id": "3kEVHhkZTT8c"
      },
      "execution_count": null,
      "outputs": []
    },
    {
      "cell_type": "code",
      "source": [
        "embeddings.compute_and_print_analogy('man', 'doctor', 'woman')"
      ],
      "metadata": {
        "id": "xmNqipZsTV46"
      },
      "execution_count": null,
      "outputs": []
    },
    {
      "cell_type": "code",
      "source": [
        "embeddings.compute_and_print_analogy('fast', 'fastest', 'small')"
      ],
      "metadata": {
        "id": "N98i5yp3TXXI"
      },
      "execution_count": null,
      "outputs": []
    }
  ]
}